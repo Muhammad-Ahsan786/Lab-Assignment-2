{
 "cells": [
  {
   "cell_type": "markdown",
   "id": "5d30ecf0-184b-4c6b-8a20-210233ea5eb5",
   "metadata": {},
   "source": [
    "# QUESTION NUMBER 1:"
   ]
  },
  {
   "cell_type": "markdown",
   "id": "19c111a7-a30f-4e56-a220-2928b2ffb820",
   "metadata": {},
   "source": [
    "## Write a program to check if a number is positive, negative, or zero"
   ]
  },
  {
   "cell_type": "code",
   "execution_count": 3,
   "id": "fa99ade3-85dc-4413-bf36-54c96d295b4b",
   "metadata": {},
   "outputs": [
    {
     "name": "stdout",
     "output_type": "stream",
     "text": [
      "The number is positive.\n"
     ]
    }
   ],
   "source": [
    "number = 3  # You can change this value to test other numbers\n",
    "\n",
    "# Check if the number is positive, negative, or zero\n",
    "if number > 1:\n",
    "    print(\"The number is positive.\")\n",
    "elif number < 1:\n",
    "    print(\"The number is negative.\")\n",
    "else:\n",
    "    print(\"The number is zero.\")\n"
   ]
  },
  {
   "cell_type": "markdown",
   "id": "1ba43c18-6608-4334-83b0-19422051b168",
   "metadata": {},
   "source": [
    "# QUESTION NUMBER 2:"
   ]
  },
  {
   "cell_type": "markdown",
   "id": "c6e303b1-c46b-438d-a03b-e4f6633f5956",
   "metadata": {},
   "source": [
    "## Create a program to determine whether a given year is a leap year"
   ]
  },
  {
   "cell_type": "code",
   "execution_count": 4,
   "id": "45639686-905e-4e44-8bd6-5f137365b7ce",
   "metadata": {},
   "outputs": [
    {
     "name": "stdout",
     "output_type": "stream",
     "text": [
      "2016 is a leap year.\n"
     ]
    }
   ],
   "source": [
    "year = 2016  # You can change this value to test other years\n",
    "\n",
    "# Check if the year is a leap year\n",
    "if (year % 4 == 0 and year % 100 != 0) or (year % 400 == 0):\n",
    "    print(f\"{year} is a leap year.\")\n",
    "else:\n",
    "    print(f\"{year} is not a leap year.\")\n"
   ]
  },
  {
   "cell_type": "markdown",
   "id": "5e5723ec-5f6f-4bfa-a490-5ec7e74afee6",
   "metadata": {},
   "source": [
    "# QUESTION NUMBER 3:"
   ]
  },
  {
   "cell_type": "markdown",
   "id": "877b7cee-4bc4-4eec-9b44-7317d0c95d05",
   "metadata": {},
   "source": [
    "## Write a Python program that accepts a student's marks and prints the appropriate grade based on the following criteria:\n",
    "## A: 85 and above\n",
    "## B: 70 to 84\n",
    "## C: 50 to 69\n",
    "## F: Below 50"
   ]
  },
  {
   "cell_type": "code",
   "execution_count": 6,
   "id": "662d0766-f9f8-49d5-9021-fb76aac411f3",
   "metadata": {},
   "outputs": [
    {
     "name": "stdout",
     "output_type": "stream",
     "text": [
      "The student's grade is: C\n"
     ]
    }
   ],
   "source": [
    "marks = 65  # You can change this value to test other marks\n",
    "\n",
    "# Determine the grade based on the marks\n",
    "if marks >= 85:\n",
    "    grade = \"A\"\n",
    "elif marks >= 70:\n",
    "    grade = \"B\"\n",
    "elif marks >= 50:\n",
    "    grade = \"C\"\n",
    "else:\n",
    "    grade = \"F\"\n",
    "\n",
    "# Print the grade\n",
    "print(f\"The student's grade is: {grade}\")\n"
   ]
  },
  {
   "cell_type": "code",
   "execution_count": null,
   "id": "ba2b3cef-ce89-4c3a-9f3a-ebccb225658b",
   "metadata": {},
   "outputs": [],
   "source": []
  }
 ],
 "metadata": {
  "kernelspec": {
   "display_name": "Python 3 (ipykernel)",
   "language": "python",
   "name": "python3"
  },
  "language_info": {
   "codemirror_mode": {
    "name": "ipython",
    "version": 3
   },
   "file_extension": ".py",
   "mimetype": "text/x-python",
   "name": "python",
   "nbconvert_exporter": "python",
   "pygments_lexer": "ipython3",
   "version": "3.12.7"
  }
 },
 "nbformat": 4,
 "nbformat_minor": 5
}
